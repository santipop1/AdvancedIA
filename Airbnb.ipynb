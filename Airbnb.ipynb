{
  "nbformat": 4,
  "nbformat_minor": 0,
  "metadata": {
    "colab": {
      "provenance": [],
      "authorship_tag": "ABX9TyPEqBFPAHjpbUp7fcFYyrHF",
      "include_colab_link": true
    },
    "kernelspec": {
      "name": "python3",
      "display_name": "Python 3"
    },
    "language_info": {
      "name": "python"
    }
  },
  "cells": [
    {
      "cell_type": "markdown",
      "metadata": {
        "id": "view-in-github",
        "colab_type": "text"
      },
      "source": [
        "<a href=\"https://colab.research.google.com/github/santipop1/AdvancedIA/blob/main/Airbnb.ipynb\" target=\"_parent\"><img src=\"https://colab.research.google.com/assets/colab-badge.svg\" alt=\"Open In Colab\"/></a>"
      ]
    },
    {
      "cell_type": "code",
      "execution_count": 1,
      "metadata": {
        "colab": {
          "base_uri": "https://localhost:8080/"
        },
        "id": "dXEDwKQVZMgw",
        "outputId": "391fee9f-b598-4298-a251-2abe3f4a3118"
      },
      "outputs": [
        {
          "output_type": "stream",
          "name": "stdout",
          "text": [
            "Requirement already satisfied: polars in /usr/local/lib/python3.11/dist-packages (1.25.2)\n"
          ]
        }
      ],
      "source": [
        "pip install polars"
      ]
    },
    {
      "cell_type": "code",
      "source": [
        "import polars as pl"
      ],
      "metadata": {
        "id": "G2jywGk0Zhe6"
      },
      "execution_count": 2,
      "outputs": []
    },
    {
      "cell_type": "code",
      "source": [
        "airbnb = pl.read_csv('/content/listings.csv')"
      ],
      "metadata": {
        "id": "yizOfUYcZjWd"
      },
      "execution_count": 3,
      "outputs": []
    },
    {
      "cell_type": "code",
      "source": [
        "airbnb.count()"
      ],
      "metadata": {
        "colab": {
          "base_uri": "https://localhost:8080/",
          "height": 149
        },
        "id": "VDgyHWScZ5VX",
        "outputId": "8b56de1a-5cad-4c61-f4aa-a86e3bb720b5"
      },
      "execution_count": 4,
      "outputs": [
        {
          "output_type": "execute_result",
          "data": {
            "text/plain": [
              "shape: (1, 79)\n",
              "┌───────┬────────────┬───────────┬────────────┬───┬────────────┬───────────┬───────────┬───────────┐\n",
              "│ id    ┆ listing_ur ┆ scrape_id ┆ last_scrap ┆ … ┆ calculated ┆ calculate ┆ calculate ┆ reviews_p │\n",
              "│ ---   ┆ l          ┆ ---       ┆ ed         ┆   ┆ _host_list ┆ d_host_li ┆ d_host_li ┆ er_month  │\n",
              "│ u32   ┆ ---        ┆ u32       ┆ ---        ┆   ┆ ings_count ┆ stings_co ┆ stings_co ┆ ---       │\n",
              "│       ┆ u32        ┆           ┆ u32        ┆   ┆ …          ┆ unt…      ┆ unt…      ┆ u32       │\n",
              "│       ┆            ┆           ┆            ┆   ┆ ---        ┆ ---       ┆ ---       ┆           │\n",
              "│       ┆            ┆           ┆            ┆   ┆ u32        ┆ u32       ┆ u32       ┆           │\n",
              "╞═══════╪════════════╪═══════════╪════════════╪═══╪════════════╪═══════════╪═══════════╪═══════════╡\n",
              "│ 26067 ┆ 26067      ┆ 26067     ┆ 26067      ┆ … ┆ 26067      ┆ 26067     ┆ 26067     ┆ 22806     │\n",
              "└───────┴────────────┴───────────┴────────────┴───┴────────────┴───────────┴───────────┴───────────┘"
            ],
            "text/html": [
              "<div><style>\n",
              ".dataframe > thead > tr,\n",
              ".dataframe > tbody > tr {\n",
              "  text-align: right;\n",
              "  white-space: pre-wrap;\n",
              "}\n",
              "</style>\n",
              "<small>shape: (1, 79)</small><table border=\"1\" class=\"dataframe\"><thead><tr><th>id</th><th>listing_url</th><th>scrape_id</th><th>last_scraped</th><th>source</th><th>name</th><th>description</th><th>neighborhood_overview</th><th>picture_url</th><th>host_id</th><th>host_url</th><th>host_name</th><th>host_since</th><th>host_location</th><th>host_about</th><th>host_response_time</th><th>host_response_rate</th><th>host_acceptance_rate</th><th>host_is_superhost</th><th>host_thumbnail_url</th><th>host_picture_url</th><th>host_neighbourhood</th><th>host_listings_count</th><th>host_total_listings_count</th><th>host_verifications</th><th>host_has_profile_pic</th><th>host_identity_verified</th><th>neighbourhood</th><th>neighbourhood_cleansed</th><th>neighbourhood_group_cleansed</th><th>latitude</th><th>longitude</th><th>property_type</th><th>room_type</th><th>accommodates</th><th>bathrooms</th><th>bathrooms_text</th><th>&hellip;</th><th>maximum_nights</th><th>minimum_minimum_nights</th><th>maximum_minimum_nights</th><th>minimum_maximum_nights</th><th>maximum_maximum_nights</th><th>minimum_nights_avg_ntm</th><th>maximum_nights_avg_ntm</th><th>calendar_updated</th><th>has_availability</th><th>availability_30</th><th>availability_60</th><th>availability_90</th><th>availability_365</th><th>calendar_last_scraped</th><th>number_of_reviews</th><th>number_of_reviews_ltm</th><th>number_of_reviews_l30d</th><th>availability_eoy</th><th>number_of_reviews_ly</th><th>estimated_occupancy_l365d</th><th>estimated_revenue_l365d</th><th>first_review</th><th>last_review</th><th>review_scores_rating</th><th>review_scores_accuracy</th><th>review_scores_cleanliness</th><th>review_scores_checkin</th><th>review_scores_communication</th><th>review_scores_location</th><th>review_scores_value</th><th>license</th><th>instant_bookable</th><th>calculated_host_listings_count</th><th>calculated_host_listings_count_entire_homes</th><th>calculated_host_listings_count_private_rooms</th><th>calculated_host_listings_count_shared_rooms</th><th>reviews_per_month</th></tr><tr><td>u32</td><td>u32</td><td>u32</td><td>u32</td><td>u32</td><td>u32</td><td>u32</td><td>u32</td><td>u32</td><td>u32</td><td>u32</td><td>u32</td><td>u32</td><td>u32</td><td>u32</td><td>u32</td><td>u32</td><td>u32</td><td>u32</td><td>u32</td><td>u32</td><td>u32</td><td>u32</td><td>u32</td><td>u32</td><td>u32</td><td>u32</td><td>u32</td><td>u32</td><td>u32</td><td>u32</td><td>u32</td><td>u32</td><td>u32</td><td>u32</td><td>u32</td><td>u32</td><td>&hellip;</td><td>u32</td><td>u32</td><td>u32</td><td>u32</td><td>u32</td><td>u32</td><td>u32</td><td>u32</td><td>u32</td><td>u32</td><td>u32</td><td>u32</td><td>u32</td><td>u32</td><td>u32</td><td>u32</td><td>u32</td><td>u32</td><td>u32</td><td>u32</td><td>u32</td><td>u32</td><td>u32</td><td>u32</td><td>u32</td><td>u32</td><td>u32</td><td>u32</td><td>u32</td><td>u32</td><td>u32</td><td>u32</td><td>u32</td><td>u32</td><td>u32</td><td>u32</td><td>u32</td></tr></thead><tbody><tr><td>26067</td><td>26067</td><td>26067</td><td>26067</td><td>26067</td><td>26067</td><td>25300</td><td>14391</td><td>26067</td><td>26067</td><td>26067</td><td>26062</td><td>26062</td><td>20587</td><td>26062</td><td>26062</td><td>26062</td><td>26062</td><td>24724</td><td>26062</td><td>26062</td><td>13875</td><td>26062</td><td>26062</td><td>26067</td><td>26062</td><td>26062</td><td>14391</td><td>26067</td><td>0</td><td>26067</td><td>26067</td><td>26067</td><td>26067</td><td>26067</td><td>22062</td><td>26040</td><td>&hellip;</td><td>26067</td><td>26067</td><td>26067</td><td>26067</td><td>26067</td><td>26067</td><td>26067</td><td>0</td><td>25076</td><td>26067</td><td>26067</td><td>26067</td><td>26067</td><td>26067</td><td>26067</td><td>26067</td><td>26067</td><td>26067</td><td>26067</td><td>26067</td><td>22068</td><td>22806</td><td>22806</td><td>22806</td><td>22805</td><td>22805</td><td>22805</td><td>22805</td><td>22805</td><td>22805</td><td>0</td><td>26067</td><td>26067</td><td>26067</td><td>26067</td><td>26067</td><td>22806</td></tr></tbody></table></div>"
            ]
          },
          "metadata": {},
          "execution_count": 4
        }
      ]
    },
    {
      "cell_type": "code",
      "source": [
        "airbnb.describe()"
      ],
      "metadata": {
        "colab": {
          "base_uri": "https://localhost:8080/",
          "height": 504
        },
        "id": "lwG2HpBPZ6qq",
        "outputId": "8a253f86-1ad5-47ca-cc1a-fa0f35ea3ff9"
      },
      "execution_count": 5,
      "outputs": [
        {
          "output_type": "execute_result",
          "data": {
            "text/plain": [
              "shape: (9, 80)\n",
              "┌───────────┬───────────┬───────────┬───────────┬───┬───────────┬───────────┬───────────┬──────────┐\n",
              "│ statistic ┆ id        ┆ listing_u ┆ scrape_id ┆ … ┆ calculate ┆ calculate ┆ calculate ┆ reviews_ │\n",
              "│ ---       ┆ ---       ┆ rl        ┆ ---       ┆   ┆ d_host_li ┆ d_host_li ┆ d_host_li ┆ per_mont │\n",
              "│ str       ┆ f64       ┆ ---       ┆ f64       ┆   ┆ stings_co ┆ stings_co ┆ stings_co ┆ h        │\n",
              "│           ┆           ┆ str       ┆           ┆   ┆ unt…      ┆ unt…      ┆ unt…      ┆ ---      │\n",
              "│           ┆           ┆           ┆           ┆   ┆ ---       ┆ ---       ┆ ---       ┆ f64      │\n",
              "│           ┆           ┆           ┆           ┆   ┆ f64       ┆ f64       ┆ f64       ┆          │\n",
              "╞═══════════╪═══════════╪═══════════╪═══════════╪═══╪═══════════╪═══════════╪═══════════╪══════════╡\n",
              "│ count     ┆ 26067.0   ┆ 26067     ┆ 26067.0   ┆ … ┆ 26067.0   ┆ 26067.0   ┆ 26067.0   ┆ 22806.0  │\n",
              "│ null_coun ┆ 0.0       ┆ 0         ┆ 0.0       ┆ … ┆ 0.0       ┆ 0.0       ┆ 0.0       ┆ 3261.0   │\n",
              "│ t         ┆           ┆           ┆           ┆   ┆           ┆           ┆           ┆          │\n",
              "│ mean      ┆ 6.0413e17 ┆ null      ┆ 2.0250e13 ┆ … ┆ 12.622626 ┆ 2.690068  ┆ 0.141904  ┆ 1.803389 │\n",
              "│ std       ┆ 5.2659e17 ┆ null      ┆ 0.0       ┆ … ┆ 35.795452 ┆ 7.340992  ┆ 1.566747  ┆ 2.032845 │\n",
              "│ min       ┆ 35797.0   ┆ https://w ┆ 2.0250e13 ┆ … ┆ 0.0       ┆ 0.0       ┆ 0.0       ┆ 0.01     │\n",
              "│           ┆           ┆ ww.airbnb ┆           ┆   ┆           ┆           ┆           ┆          │\n",
              "│           ┆           ┆ .com/room ┆           ┆   ┆           ┆           ┆           ┆          │\n",
              "│           ┆           ┆ s/1…      ┆           ┆   ┆           ┆           ┆           ┆          │\n",
              "│ 25%       ┆ 4.1641319 ┆ null      ┆ 2.0250e13 ┆ … ┆ 0.0       ┆ 0.0       ┆ 0.0       ┆ 0.45     │\n",
              "│           ┆ e7        ┆           ┆           ┆   ┆           ┆           ┆           ┆          │\n",
              "│ 50%       ┆ 7.3984e17 ┆ null      ┆ 2.0250e13 ┆ … ┆ 1.0       ┆ 0.0       ┆ 0.0       ┆ 1.23     │\n",
              "│ 75%       ┆ 1.0908e18 ┆ null      ┆ 2.0250e13 ┆ … ┆ 6.0       ┆ 2.0       ┆ 0.0       ┆ 2.56     │\n",
              "│ max       ┆ 1.3798e18 ┆ https://w ┆ 2.0250e13 ┆ … ┆ 242.0     ┆ 65.0      ┆ 28.0      ┆ 61.05    │\n",
              "│           ┆           ┆ ww.airbnb ┆           ┆   ┆           ┆           ┆           ┆          │\n",
              "│           ┆           ┆ .com/room ┆           ┆   ┆           ┆           ┆           ┆          │\n",
              "│           ┆           ┆ s/9…      ┆           ┆   ┆           ┆           ┆           ┆          │\n",
              "└───────────┴───────────┴───────────┴───────────┴───┴───────────┴───────────┴───────────┴──────────┘"
            ],
            "text/html": [
              "<div><style>\n",
              ".dataframe > thead > tr,\n",
              ".dataframe > tbody > tr {\n",
              "  text-align: right;\n",
              "  white-space: pre-wrap;\n",
              "}\n",
              "</style>\n",
              "<small>shape: (9, 80)</small><table border=\"1\" class=\"dataframe\"><thead><tr><th>statistic</th><th>id</th><th>listing_url</th><th>scrape_id</th><th>last_scraped</th><th>source</th><th>name</th><th>description</th><th>neighborhood_overview</th><th>picture_url</th><th>host_id</th><th>host_url</th><th>host_name</th><th>host_since</th><th>host_location</th><th>host_about</th><th>host_response_time</th><th>host_response_rate</th><th>host_acceptance_rate</th><th>host_is_superhost</th><th>host_thumbnail_url</th><th>host_picture_url</th><th>host_neighbourhood</th><th>host_listings_count</th><th>host_total_listings_count</th><th>host_verifications</th><th>host_has_profile_pic</th><th>host_identity_verified</th><th>neighbourhood</th><th>neighbourhood_cleansed</th><th>neighbourhood_group_cleansed</th><th>latitude</th><th>longitude</th><th>property_type</th><th>room_type</th><th>accommodates</th><th>bathrooms</th><th>&hellip;</th><th>maximum_nights</th><th>minimum_minimum_nights</th><th>maximum_minimum_nights</th><th>minimum_maximum_nights</th><th>maximum_maximum_nights</th><th>minimum_nights_avg_ntm</th><th>maximum_nights_avg_ntm</th><th>calendar_updated</th><th>has_availability</th><th>availability_30</th><th>availability_60</th><th>availability_90</th><th>availability_365</th><th>calendar_last_scraped</th><th>number_of_reviews</th><th>number_of_reviews_ltm</th><th>number_of_reviews_l30d</th><th>availability_eoy</th><th>number_of_reviews_ly</th><th>estimated_occupancy_l365d</th><th>estimated_revenue_l365d</th><th>first_review</th><th>last_review</th><th>review_scores_rating</th><th>review_scores_accuracy</th><th>review_scores_cleanliness</th><th>review_scores_checkin</th><th>review_scores_communication</th><th>review_scores_location</th><th>review_scores_value</th><th>license</th><th>instant_bookable</th><th>calculated_host_listings_count</th><th>calculated_host_listings_count_entire_homes</th><th>calculated_host_listings_count_private_rooms</th><th>calculated_host_listings_count_shared_rooms</th><th>reviews_per_month</th></tr><tr><td>str</td><td>f64</td><td>str</td><td>f64</td><td>str</td><td>str</td><td>str</td><td>str</td><td>str</td><td>str</td><td>f64</td><td>str</td><td>str</td><td>str</td><td>str</td><td>str</td><td>str</td><td>str</td><td>str</td><td>str</td><td>str</td><td>str</td><td>str</td><td>f64</td><td>f64</td><td>str</td><td>str</td><td>str</td><td>str</td><td>str</td><td>str</td><td>f64</td><td>f64</td><td>str</td><td>str</td><td>f64</td><td>f64</td><td>&hellip;</td><td>f64</td><td>f64</td><td>f64</td><td>f64</td><td>f64</td><td>f64</td><td>f64</td><td>str</td><td>str</td><td>f64</td><td>f64</td><td>f64</td><td>f64</td><td>str</td><td>f64</td><td>f64</td><td>f64</td><td>f64</td><td>f64</td><td>f64</td><td>f64</td><td>str</td><td>str</td><td>f64</td><td>f64</td><td>f64</td><td>f64</td><td>f64</td><td>f64</td><td>f64</td><td>str</td><td>str</td><td>f64</td><td>f64</td><td>f64</td><td>f64</td><td>f64</td></tr></thead><tbody><tr><td>&quot;count&quot;</td><td>26067.0</td><td>&quot;26067&quot;</td><td>26067.0</td><td>&quot;26067&quot;</td><td>&quot;26067&quot;</td><td>&quot;26067&quot;</td><td>&quot;25300&quot;</td><td>&quot;14391&quot;</td><td>&quot;26067&quot;</td><td>26067.0</td><td>&quot;26067&quot;</td><td>&quot;26062&quot;</td><td>&quot;26062&quot;</td><td>&quot;20587&quot;</td><td>&quot;26062&quot;</td><td>&quot;26062&quot;</td><td>&quot;26062&quot;</td><td>&quot;26062&quot;</td><td>&quot;24724&quot;</td><td>&quot;26062&quot;</td><td>&quot;26062&quot;</td><td>&quot;13875&quot;</td><td>26062.0</td><td>26062.0</td><td>&quot;26067&quot;</td><td>&quot;26062&quot;</td><td>&quot;26062&quot;</td><td>&quot;14391&quot;</td><td>&quot;26067&quot;</td><td>&quot;0&quot;</td><td>26067.0</td><td>26067.0</td><td>&quot;26067&quot;</td><td>&quot;26067&quot;</td><td>26067.0</td><td>22062.0</td><td>&hellip;</td><td>26067.0</td><td>26067.0</td><td>26067.0</td><td>26067.0</td><td>26067.0</td><td>26067.0</td><td>26067.0</td><td>&quot;0&quot;</td><td>&quot;25076&quot;</td><td>26067.0</td><td>26067.0</td><td>26067.0</td><td>26067.0</td><td>&quot;26067&quot;</td><td>26067.0</td><td>26067.0</td><td>26067.0</td><td>26067.0</td><td>26067.0</td><td>26067.0</td><td>22068.0</td><td>&quot;22806&quot;</td><td>&quot;22806&quot;</td><td>22806.0</td><td>22805.0</td><td>22805.0</td><td>22805.0</td><td>22805.0</td><td>22805.0</td><td>22805.0</td><td>&quot;0&quot;</td><td>&quot;26067&quot;</td><td>26067.0</td><td>26067.0</td><td>26067.0</td><td>26067.0</td><td>22806.0</td></tr><tr><td>&quot;null_count&quot;</td><td>0.0</td><td>&quot;0&quot;</td><td>0.0</td><td>&quot;0&quot;</td><td>&quot;0&quot;</td><td>&quot;0&quot;</td><td>&quot;767&quot;</td><td>&quot;11676&quot;</td><td>&quot;0&quot;</td><td>0.0</td><td>&quot;0&quot;</td><td>&quot;5&quot;</td><td>&quot;5&quot;</td><td>&quot;5480&quot;</td><td>&quot;5&quot;</td><td>&quot;5&quot;</td><td>&quot;5&quot;</td><td>&quot;5&quot;</td><td>&quot;1343&quot;</td><td>&quot;5&quot;</td><td>&quot;5&quot;</td><td>&quot;12192&quot;</td><td>5.0</td><td>5.0</td><td>&quot;0&quot;</td><td>&quot;5&quot;</td><td>&quot;5&quot;</td><td>&quot;11676&quot;</td><td>&quot;0&quot;</td><td>&quot;26067&quot;</td><td>0.0</td><td>0.0</td><td>&quot;0&quot;</td><td>&quot;0&quot;</td><td>0.0</td><td>4005.0</td><td>&hellip;</td><td>0.0</td><td>0.0</td><td>0.0</td><td>0.0</td><td>0.0</td><td>0.0</td><td>0.0</td><td>&quot;26067&quot;</td><td>&quot;991&quot;</td><td>0.0</td><td>0.0</td><td>0.0</td><td>0.0</td><td>&quot;0&quot;</td><td>0.0</td><td>0.0</td><td>0.0</td><td>0.0</td><td>0.0</td><td>0.0</td><td>3999.0</td><td>&quot;3261&quot;</td><td>&quot;3261&quot;</td><td>3261.0</td><td>3262.0</td><td>3262.0</td><td>3262.0</td><td>3262.0</td><td>3262.0</td><td>3262.0</td><td>&quot;26067&quot;</td><td>&quot;0&quot;</td><td>0.0</td><td>0.0</td><td>0.0</td><td>0.0</td><td>3261.0</td></tr><tr><td>&quot;mean&quot;</td><td>6.0413e17</td><td>null</td><td>2.0250e13</td><td>null</td><td>null</td><td>null</td><td>null</td><td>null</td><td>null</td><td>2.2885e8</td><td>null</td><td>null</td><td>null</td><td>null</td><td>null</td><td>null</td><td>null</td><td>null</td><td>null</td><td>null</td><td>null</td><td>null</td><td>25.900852</td><td>35.072826</td><td>null</td><td>null</td><td>null</td><td>null</td><td>null</td><td>null</td><td>19.405242</td><td>-99.166046</td><td>null</td><td>null</td><td>3.34676</td><td>1.451432</td><td>&hellip;</td><td>497.850424</td><td>4.326275</td><td>4.861396</td><td>83078.227414</td><td>83105.265585</td><td>4.553466</td><td>83091.158453</td><td>null</td><td>null</td><td>12.807151</td><td>32.647869</td><td>54.661564</td><td>218.320865</td><td>null</td><td>50.484751</td><td>15.173246</td><td>1.221046</td><td>178.373231</td><td>14.514482</td><td>82.529098</td><td>137057.075856</td><td>null</td><td>null</td><td>4.750332</td><td>4.783535</td><td>4.753931</td><td>4.837276</td><td>4.823005</td><td>4.840322</td><td>4.713932</td><td>null</td><td>null</td><td>15.491886</td><td>12.622626</td><td>2.690068</td><td>0.141904</td><td>1.803389</td></tr><tr><td>&quot;std&quot;</td><td>5.2659e17</td><td>null</td><td>0.0</td><td>null</td><td>null</td><td>null</td><td>null</td><td>null</td><td>null</td><td>1.9542e8</td><td>null</td><td>null</td><td>null</td><td>null</td><td>null</td><td>null</td><td>null</td><td>null</td><td>null</td><td>null</td><td>null</td><td>null</td><td>86.765206</td><td>123.984298</td><td>null</td><td>null</td><td>null</td><td>null</td><td>null</td><td>null</td><td>0.042514</td><td>0.033489</td><td>null</td><td>null</td><td>2.359036</td><td>1.030367</td><td>&hellip;</td><td>409.415054</td><td>24.438706</td><td>24.862708</td><td>1.3301e7</td><td>1.3301e7</td><td>24.536108</td><td>1.3301e7</td><td>null</td><td>null</td><td>10.623744</td><td>21.202736</td><td>31.571305</td><td>130.073992</td><td>null</td><td>79.867601</td><td>22.005051</td><td>1.922822</td><td>102.101943</td><td>21.68007</td><td>89.755021</td><td>281565.332008</td><td>null</td><td>null</td><td>0.381077</td><td>0.372396</td><td>0.378514</td><td>0.326791</td><td>0.360575</td><td>0.29821</td><td>0.394899</td><td>null</td><td>null</td><td>36.230505</td><td>35.795452</td><td>7.340992</td><td>1.566747</td><td>2.032845</td></tr><tr><td>&quot;min&quot;</td><td>35797.0</td><td>&quot;https://www.airbnb.com/rooms/1…</td><td>2.0250e13</td><td>&quot;2025-03-19&quot;</td><td>&quot;city scrape&quot;</td><td>&quot;! EXPERIMENTA VIVIR EN UN PARA…</td><td>&quot;! Opal !&lt;br /&gt;Beautiful room, …</td><td>&quot; QUIET, CHARMING, FULL OF CHAR…</td><td>&quot;https://a0.muscache.com/pictur…</td><td>7365.0</td><td>&quot;https://www.airbnb.com/users/s…</td><td>&quot;(Porterfield Family)Jorge Eric…</td><td>&quot;2009-02-03&quot;</td><td>&quot;A Coruña, Spain&quot;</td><td>&quot;&quot;</td><td>&quot;N/A&quot;</td><td>&quot;0%&quot;</td><td>&quot;0%&quot;</td><td>&quot;f&quot;</td><td>&quot;https://a0.muscache.com/defaul…</td><td>&quot;https://a0.muscache.com/defaul…</td><td>&quot; Allende Bravo &quot;</td><td>1.0</td><td>1.0</td><td>&quot;None&quot;</td><td>&quot;f&quot;</td><td>&quot;f&quot;</td><td>&quot; Alcaldía Cuauhtémoc, Ciudad d…</td><td>&quot;Azcapotzalco&quot;</td><td>null</td><td>19.095762</td><td>-99.33963</td><td>&quot;Boat&quot;</td><td>&quot;Entire home/apt&quot;</td><td>1.0</td><td>0.0</td><td>&hellip;</td><td>1.0</td><td>1.0</td><td>1.0</td><td>1.0</td><td>1.0</td><td>1.0</td><td>1.0</td><td>null</td><td>&quot;t&quot;</td><td>0.0</td><td>0.0</td><td>0.0</td><td>0.0</td><td>&quot;2025-03-19&quot;</td><td>0.0</td><td>0.0</td><td>0.0</td><td>0.0</td><td>0.0</td><td>0.0</td><td>0.0</td><td>&quot;2011-04-02&quot;</td><td>&quot;2013-12-21&quot;</td><td>1.0</td><td>1.0</td><td>1.0</td><td>1.0</td><td>1.0</td><td>1.0</td><td>1.0</td><td>null</td><td>&quot;f&quot;</td><td>1.0</td><td>0.0</td><td>0.0</td><td>0.0</td><td>0.01</td></tr><tr><td>&quot;25%&quot;</td><td>4.1641319e7</td><td>null</td><td>2.0250e13</td><td>null</td><td>null</td><td>null</td><td>null</td><td>null</td><td>null</td><td>5.2590317e7</td><td>null</td><td>null</td><td>null</td><td>null</td><td>null</td><td>null</td><td>null</td><td>null</td><td>null</td><td>null</td><td>null</td><td>null</td><td>1.0</td><td>2.0</td><td>null</td><td>null</td><td>null</td><td>null</td><td>null</td><td>null</td><td>19.39184</td><td>-99.178873</td><td>null</td><td>null</td><td>2.0</td><td>1.0</td><td>&hellip;</td><td>180.0</td><td>1.0</td><td>1.0</td><td>365.0</td><td>365.0</td><td>1.0</td><td>365.0</td><td>null</td><td>null</td><td>2.0</td><td>14.0</td><td>31.0</td><td>88.0</td><td>null</td><td>4.0</td><td>0.0</td><td>0.0</td><td>85.0</td><td>0.0</td><td>0.0</td><td>7200.0</td><td>null</td><td>null</td><td>4.7</td><td>4.75</td><td>4.7</td><td>4.82</td><td>4.8</td><td>4.8</td><td>4.67</td><td>null</td><td>null</td><td>1.0</td><td>0.0</td><td>0.0</td><td>0.0</td><td>0.45</td></tr><tr><td>&quot;50%&quot;</td><td>7.3984e17</td><td>null</td><td>2.0250e13</td><td>null</td><td>null</td><td>null</td><td>null</td><td>null</td><td>null</td><td>1.64898812e8</td><td>null</td><td>null</td><td>null</td><td>null</td><td>null</td><td>null</td><td>null</td><td>null</td><td>null</td><td>null</td><td>null</td><td>null</td><td>4.0</td><td>5.0</td><td>null</td><td>null</td><td>null</td><td>null</td><td>null</td><td>null</td><td>19.41515</td><td>-99.167399</td><td>null</td><td>null</td><td>2.0</td><td>1.0</td><td>&hellip;</td><td>365.0</td><td>1.0</td><td>2.0</td><td>730.0</td><td>1125.0</td><td>2.0</td><td>999.0</td><td>null</td><td>null</td><td>12.0</td><td>37.0</td><td>65.0</td><td>259.0</td><td>null</td><td>20.0</td><td>7.0</td><td>0.0</td><td>221.0</td><td>6.0</td><td>48.0</td><td>57240.0</td><td>null</td><td>null</td><td>4.84</td><td>4.88</td><td>4.85</td><td>4.92</td><td>4.92</td><td>4.92</td><td>4.8</td><td>null</td><td>null</td><td>3.0</td><td>1.0</td><td>0.0</td><td>0.0</td><td>1.23</td></tr><tr><td>&quot;75%&quot;</td><td>1.0908e18</td><td>null</td><td>2.0250e13</td><td>null</td><td>null</td><td>null</td><td>null</td><td>null</td><td>null</td><td>3.99243502e8</td><td>null</td><td>null</td><td>null</td><td>null</td><td>null</td><td>null</td><td>null</td><td>null</td><td>null</td><td>null</td><td>null</td><td>null</td><td>14.0</td><td>17.0</td><td>null</td><td>null</td><td>null</td><td>null</td><td>null</td><td>null</td><td>19.43194</td><td>-99.154379</td><td>null</td><td>null</td><td>4.0</td><td>2.0</td><td>&hellip;</td><td>1125.0</td><td>2.0</td><td>3.0</td><td>1125.0</td><td>1125.0</td><td>2.6</td><td>1125.0</td><td>null</td><td>null</td><td>22.0</td><td>52.0</td><td>81.0</td><td>343.0</td><td>null</td><td>64.0</td><td>23.0</td><td>2.0</td><td>269.0</td><td>22.0</td><td>144.0</td><td>174390.0</td><td>null</td><td>null</td><td>4.95</td><td>4.97</td><td>4.95</td><td>5.0</td><td>5.0</td><td>5.0</td><td>4.91</td><td>null</td><td>null</td><td>11.0</td><td>6.0</td><td>2.0</td><td>0.0</td><td>2.56</td></tr><tr><td>&quot;max&quot;</td><td>1.3798e18</td><td>&quot;https://www.airbnb.com/rooms/9…</td><td>2.0250e13</td><td>&quot;2025-03-22&quot;</td><td>&quot;previous scrape&quot;</td><td>&quot;🪴Peaceful, spacious room on th…</td><td>&quot;🪷🌿Discover an extraordinary 16…</td><td>&quot;🏠 Welcome to Colonia Roma Nort…</td><td>&quot;https://a0.muscache.com/pictur…</td><td>6.84715954e8</td><td>&quot;https://www.airbnb.com/users/s…</td><td>&quot;蕾&quot;</td><td>&quot;2025-03-16&quot;</td><td>&quot;Álvaro Obregón, Mexico&quot;</td><td>&quot;❤️&quot;</td><td>&quot;within an hour&quot;</td><td>&quot;N/A&quot;</td><td>&quot;N/A&quot;</td><td>&quot;t&quot;</td><td>&quot;https://z0.muscache.cn/im/pict…</td><td>&quot;https://z0.muscache.cn/im/pict…</td><td>&quot;Área dos centro &quot;</td><td>886.0</td><td>1049.0</td><td>&quot;[]&quot;</td><td>&quot;t&quot;</td><td>&quot;t&quot;</td><td>&quot;墨西哥城, Ciudad de México, Mexico&quot;</td><td>&quot;Álvaro Obregón&quot;</td><td>null</td><td>19.56101</td><td>-98.96336</td><td>&quot;Tower&quot;</td><td>&quot;Shared room&quot;</td><td>16.0</td><td>49.0</td><td>&hellip;</td><td>1127.0</td><td>1125.0</td><td>1125.0</td><td>2.1475e9</td><td>2.1475e9</td><td>1125.0</td><td>2.1475e9</td><td>null</td><td>&quot;t&quot;</td><td>30.0</td><td>60.0</td><td>90.0</td><td>365.0</td><td>&quot;2025-03-22&quot;</td><td>1291.0</td><td>539.0</td><td>44.0</td><td>288.0</td><td>549.0</td><td>255.0</td><td>1.9142064e7</td><td>&quot;2025-03-21&quot;</td><td>&quot;2025-03-21&quot;</td><td>5.0</td><td>5.0</td><td>5.0</td><td>5.0</td><td>5.0</td><td>5.0</td><td>5.0</td><td>null</td><td>&quot;t&quot;</td><td>242.0</td><td>242.0</td><td>65.0</td><td>28.0</td><td>61.05</td></tr></tbody></table></div>"
            ]
          },
          "metadata": {},
          "execution_count": 5
        }
      ]
    },
    {
      "cell_type": "code",
      "source": [
        "airbnb.head()"
      ],
      "metadata": {
        "colab": {
          "base_uri": "https://localhost:8080/",
          "height": 535
        },
        "id": "wba9g770aMeJ",
        "outputId": "58e36ae4-1fb4-4cef-f9b3-14ab172d4a9d"
      },
      "execution_count": 6,
      "outputs": [
        {
          "output_type": "execute_result",
          "data": {
            "text/plain": [
              "shape: (5, 79)\n",
              "┌───────┬────────────┬────────────┬────────────┬───┬───────────┬───────────┬───────────┬───────────┐\n",
              "│ id    ┆ listing_ur ┆ scrape_id  ┆ last_scrap ┆ … ┆ calculate ┆ calculate ┆ calculate ┆ reviews_p │\n",
              "│ ---   ┆ l          ┆ ---        ┆ ed         ┆   ┆ d_host_li ┆ d_host_li ┆ d_host_li ┆ er_month  │\n",
              "│ i64   ┆ ---        ┆ i64        ┆ ---        ┆   ┆ stings_co ┆ stings_co ┆ stings_co ┆ ---       │\n",
              "│       ┆ str        ┆            ┆ str        ┆   ┆ unt…      ┆ unt…      ┆ unt…      ┆ f64       │\n",
              "│       ┆            ┆            ┆            ┆   ┆ ---       ┆ ---       ┆ ---       ┆           │\n",
              "│       ┆            ┆            ┆            ┆   ┆ i64       ┆ i64       ┆ i64       ┆           │\n",
              "╞═══════╪════════════╪════════════╪════════════╪═══╪═══════════╪═══════════╪═══════════╪═══════════╡\n",
              "│ 35797 ┆ https://ww ┆ 2025031915 ┆ 2025-03-21 ┆ … ┆ 1         ┆ 0         ┆ 0         ┆ null      │\n",
              "│       ┆ w.airbnb.c ┆ 0644       ┆            ┆   ┆           ┆           ┆           ┆           │\n",
              "│       ┆ om/rooms/3 ┆            ┆            ┆   ┆           ┆           ┆           ┆           │\n",
              "│       ┆ …          ┆            ┆            ┆   ┆           ┆           ┆           ┆           │\n",
              "│ 44616 ┆ https://ww ┆ 2025031915 ┆ 2025-03-20 ┆ … ┆ 4         ┆ 2         ┆ 0         ┆ 0.4       │\n",
              "│       ┆ w.airbnb.c ┆ 0644       ┆            ┆   ┆           ┆           ┆           ┆           │\n",
              "│       ┆ om/rooms/4 ┆            ┆            ┆   ┆           ┆           ┆           ┆           │\n",
              "│       ┆ …          ┆            ┆            ┆   ┆           ┆           ┆           ┆           │\n",
              "│ 56074 ┆ https://ww ┆ 2025031915 ┆ 2025-03-20 ┆ … ┆ 1         ┆ 0         ┆ 0         ┆ 0.49      │\n",
              "│       ┆ w.airbnb.c ┆ 0644       ┆            ┆   ┆           ┆           ┆           ┆           │\n",
              "│       ┆ om/rooms/5 ┆            ┆            ┆   ┆           ┆           ┆           ┆           │\n",
              "│       ┆ …          ┆            ┆            ┆   ┆           ┆           ┆           ┆           │\n",
              "│ 67703 ┆ https://ww ┆ 2025031915 ┆ 2025-03-20 ┆ … ┆ 2         ┆ 0         ┆ 0         ┆ 0.31      │\n",
              "│       ┆ w.airbnb.c ┆ 0644       ┆            ┆   ┆           ┆           ┆           ┆           │\n",
              "│       ┆ om/rooms/6 ┆            ┆            ┆   ┆           ┆           ┆           ┆           │\n",
              "│       ┆ …          ┆            ┆            ┆   ┆           ┆           ┆           ┆           │\n",
              "│ 70644 ┆ https://ww ┆ 2025031915 ┆ 2025-03-22 ┆ … ┆ 2         ┆ 1         ┆ 0         ┆ 0.83      │\n",
              "│       ┆ w.airbnb.c ┆ 0644       ┆            ┆   ┆           ┆           ┆           ┆           │\n",
              "│       ┆ om/rooms/7 ┆            ┆            ┆   ┆           ┆           ┆           ┆           │\n",
              "│       ┆ …          ┆            ┆            ┆   ┆           ┆           ┆           ┆           │\n",
              "└───────┴────────────┴────────────┴────────────┴───┴───────────┴───────────┴───────────┴───────────┘"
            ],
            "text/html": [
              "<div><style>\n",
              ".dataframe > thead > tr,\n",
              ".dataframe > tbody > tr {\n",
              "  text-align: right;\n",
              "  white-space: pre-wrap;\n",
              "}\n",
              "</style>\n",
              "<small>shape: (5, 79)</small><table border=\"1\" class=\"dataframe\"><thead><tr><th>id</th><th>listing_url</th><th>scrape_id</th><th>last_scraped</th><th>source</th><th>name</th><th>description</th><th>neighborhood_overview</th><th>picture_url</th><th>host_id</th><th>host_url</th><th>host_name</th><th>host_since</th><th>host_location</th><th>host_about</th><th>host_response_time</th><th>host_response_rate</th><th>host_acceptance_rate</th><th>host_is_superhost</th><th>host_thumbnail_url</th><th>host_picture_url</th><th>host_neighbourhood</th><th>host_listings_count</th><th>host_total_listings_count</th><th>host_verifications</th><th>host_has_profile_pic</th><th>host_identity_verified</th><th>neighbourhood</th><th>neighbourhood_cleansed</th><th>neighbourhood_group_cleansed</th><th>latitude</th><th>longitude</th><th>property_type</th><th>room_type</th><th>accommodates</th><th>bathrooms</th><th>bathrooms_text</th><th>&hellip;</th><th>maximum_nights</th><th>minimum_minimum_nights</th><th>maximum_minimum_nights</th><th>minimum_maximum_nights</th><th>maximum_maximum_nights</th><th>minimum_nights_avg_ntm</th><th>maximum_nights_avg_ntm</th><th>calendar_updated</th><th>has_availability</th><th>availability_30</th><th>availability_60</th><th>availability_90</th><th>availability_365</th><th>calendar_last_scraped</th><th>number_of_reviews</th><th>number_of_reviews_ltm</th><th>number_of_reviews_l30d</th><th>availability_eoy</th><th>number_of_reviews_ly</th><th>estimated_occupancy_l365d</th><th>estimated_revenue_l365d</th><th>first_review</th><th>last_review</th><th>review_scores_rating</th><th>review_scores_accuracy</th><th>review_scores_cleanliness</th><th>review_scores_checkin</th><th>review_scores_communication</th><th>review_scores_location</th><th>review_scores_value</th><th>license</th><th>instant_bookable</th><th>calculated_host_listings_count</th><th>calculated_host_listings_count_entire_homes</th><th>calculated_host_listings_count_private_rooms</th><th>calculated_host_listings_count_shared_rooms</th><th>reviews_per_month</th></tr><tr><td>i64</td><td>str</td><td>i64</td><td>str</td><td>str</td><td>str</td><td>str</td><td>str</td><td>str</td><td>i64</td><td>str</td><td>str</td><td>str</td><td>str</td><td>str</td><td>str</td><td>str</td><td>str</td><td>str</td><td>str</td><td>str</td><td>str</td><td>i64</td><td>i64</td><td>str</td><td>str</td><td>str</td><td>str</td><td>str</td><td>str</td><td>f64</td><td>f64</td><td>str</td><td>str</td><td>i64</td><td>f64</td><td>str</td><td>&hellip;</td><td>i64</td><td>i64</td><td>i64</td><td>i64</td><td>i64</td><td>f64</td><td>f64</td><td>str</td><td>str</td><td>i64</td><td>i64</td><td>i64</td><td>i64</td><td>str</td><td>i64</td><td>i64</td><td>i64</td><td>i64</td><td>i64</td><td>i64</td><td>i64</td><td>str</td><td>str</td><td>f64</td><td>f64</td><td>f64</td><td>f64</td><td>f64</td><td>f64</td><td>f64</td><td>str</td><td>str</td><td>i64</td><td>i64</td><td>i64</td><td>i64</td><td>f64</td></tr></thead><tbody><tr><td>35797</td><td>&quot;https://www.airbnb.com/rooms/3…</td><td>20250319150644</td><td>&quot;2025-03-21&quot;</td><td>&quot;city scrape&quot;</td><td>&quot;Villa Dante&quot;</td><td>&quot;Dentro de Villa un estudio de …</td><td>&quot;Santa Fe Shopping Mall, Interl…</td><td>&quot;https://a0.muscache.com/pictur…</td><td>153786</td><td>&quot;https://www.airbnb.com/users/s…</td><td>&quot;Dici&quot;</td><td>&quot;2010-06-28&quot;</td><td>&quot;Mexico City, Mexico&quot;</td><td>&quot;Master in visual arts, film ph…</td><td>&quot;N/A&quot;</td><td>&quot;N/A&quot;</td><td>&quot;N/A&quot;</td><td>&quot;f&quot;</td><td>&quot;https://a0.muscache.com/im/pic…</td><td>&quot;https://a0.muscache.com/im/pic…</td><td>null</td><td>1</td><td>1</td><td>&quot;[&#x27;email&#x27;, &#x27;phone&#x27;, &#x27;work_email…</td><td>&quot;t&quot;</td><td>&quot;t&quot;</td><td>&quot;Mexico City, D.f., Mexico&quot;</td><td>&quot;Cuajimalpa de Morelos&quot;</td><td>null</td><td>19.38283</td><td>-99.27178</td><td>&quot;Entire villa&quot;</td><td>&quot;Entire home/apt&quot;</td><td>2</td><td>1.0</td><td>&quot;1 bath&quot;</td><td>&hellip;</td><td>7</td><td>1</td><td>1</td><td>7</td><td>7</td><td>1.0</td><td>7.0</td><td>null</td><td>&quot;t&quot;</td><td>28</td><td>58</td><td>88</td><td>363</td><td>&quot;2025-03-21&quot;</td><td>0</td><td>0</td><td>0</td><td>284</td><td>0</td><td>0</td><td>0</td><td>null</td><td>null</td><td>null</td><td>null</td><td>null</td><td>null</td><td>null</td><td>null</td><td>null</td><td>null</td><td>&quot;f&quot;</td><td>1</td><td>1</td><td>0</td><td>0</td><td>null</td></tr><tr><td>44616</td><td>&quot;https://www.airbnb.com/rooms/4…</td><td>20250319150644</td><td>&quot;2025-03-20&quot;</td><td>&quot;previous scrape&quot;</td><td>&quot;Condesa Haus&quot;</td><td>&quot;A new concept of hosting in me…</td><td>null</td><td>&quot;https://a0.muscache.com/pictur…</td><td>196253</td><td>&quot;https://www.airbnb.com/users/s…</td><td>&quot;Fernando&quot;</td><td>&quot;2010-08-09&quot;</td><td>&quot;Mexico City, Mexico&quot;</td><td>&quot;Condesa Haus Rentals&nbsp;&nbsp;offers i…</td><td>&quot;within a few hours&quot;</td><td>&quot;100%&quot;</td><td>&quot;90%&quot;</td><td>&quot;f&quot;</td><td>&quot;https://a0.muscache.com/im/use…</td><td>&quot;https://a0.muscache.com/im/use…</td><td>&quot;Condesa&quot;</td><td>13</td><td>13</td><td>&quot;[&#x27;email&#x27;, &#x27;phone&#x27;, &#x27;work_email…</td><td>&quot;t&quot;</td><td>&quot;t&quot;</td><td>null</td><td>&quot;Cuauhtémoc&quot;</td><td>null</td><td>19.41162</td><td>-99.17794</td><td>&quot;Entire home&quot;</td><td>&quot;Entire home/apt&quot;</td><td>14</td><td>null</td><td>&quot;5.5 baths&quot;</td><td>&hellip;</td><td>365</td><td>1</td><td>1</td><td>365</td><td>365</td><td>1.0</td><td>365.0</td><td>null</td><td>&quot;t&quot;</td><td>29</td><td>59</td><td>89</td><td>364</td><td>&quot;2025-03-20&quot;</td><td>65</td><td>1</td><td>0</td><td>286</td><td>0</td><td>6</td><td>null</td><td>&quot;2011-11-09&quot;</td><td>&quot;2025-01-01&quot;</td><td>4.59</td><td>4.56</td><td>4.7</td><td>4.87</td><td>4.78</td><td>4.98</td><td>4.47</td><td>null</td><td>&quot;f&quot;</td><td>9</td><td>4</td><td>2</td><td>0</td><td>0.4</td></tr><tr><td>56074</td><td>&quot;https://www.airbnb.com/rooms/5…</td><td>20250319150644</td><td>&quot;2025-03-20&quot;</td><td>&quot;city scrape&quot;</td><td>&quot;Great space in historical San …</td><td>&quot;This great apartment is locate…</td><td>&quot;Very traditional neighborhood …</td><td>&quot;https://a0.muscache.com/pictur…</td><td>265650</td><td>&quot;https://www.airbnb.com/users/s…</td><td>&quot;Maris&quot;</td><td>&quot;2010-10-19&quot;</td><td>&quot;Mexico City, Mexico&quot;</td><td>&quot;I am a University Professor no…</td><td>&quot;within a day&quot;</td><td>&quot;88%&quot;</td><td>&quot;100%&quot;</td><td>&quot;f&quot;</td><td>&quot;https://a0.muscache.com/im/use…</td><td>&quot;https://a0.muscache.com/im/use…</td><td>&quot;San Rafael&quot;</td><td>1</td><td>5</td><td>&quot;[&#x27;email&#x27;, &#x27;phone&#x27;]&quot;</td><td>&quot;t&quot;</td><td>&quot;t&quot;</td><td>&quot;Mexico City, DF, Mexico&quot;</td><td>&quot;Cuauhtémoc&quot;</td><td>null</td><td>19.43977</td><td>-99.15605</td><td>&quot;Entire condo&quot;</td><td>&quot;Entire home/apt&quot;</td><td>2</td><td>1.0</td><td>&quot;1 bath&quot;</td><td>&hellip;</td><td>250</td><td>15</td><td>15</td><td>250</td><td>250</td><td>15.0</td><td>250.0</td><td>null</td><td>&quot;t&quot;</td><td>26</td><td>56</td><td>86</td><td>361</td><td>&quot;2025-03-20&quot;</td><td>84</td><td>1</td><td>1</td><td>283</td><td>0</td><td>30</td><td>17550</td><td>&quot;2011-04-02&quot;</td><td>&quot;2025-02-27&quot;</td><td>4.87</td><td>4.95</td><td>4.88</td><td>4.98</td><td>4.94</td><td>4.76</td><td>4.79</td><td>null</td><td>&quot;f&quot;</td><td>1</td><td>1</td><td>0</td><td>0</td><td>0.49</td></tr><tr><td>67703</td><td>&quot;https://www.airbnb.com/rooms/6…</td><td>20250319150644</td><td>&quot;2025-03-20&quot;</td><td>&quot;previous scrape&quot;</td><td>&quot;2 bedroom apt. deco bldg, Cond…</td><td>&quot;Comfortably furnished, sunny, …</td><td>null</td><td>&quot;https://a0.muscache.com/pictur…</td><td>334451</td><td>&quot;https://www.airbnb.com/users/s…</td><td>&quot;Nicholas&quot;</td><td>&quot;2011-01-04&quot;</td><td>&quot;Mexico City, Mexico&quot;</td><td>&quot;I am a journalist writing abou…</td><td>&quot;within an hour&quot;</td><td>&quot;100%&quot;</td><td>&quot;47%&quot;</td><td>&quot;t&quot;</td><td>&quot;https://a0.muscache.com/im/use…</td><td>&quot;https://a0.muscache.com/im/use…</td><td>&quot;Hipódromo&quot;</td><td>3</td><td>4</td><td>&quot;[&#x27;email&#x27;, &#x27;phone&#x27;]&quot;</td><td>&quot;t&quot;</td><td>&quot;t&quot;</td><td>null</td><td>&quot;Cuauhtémoc&quot;</td><td>null</td><td>19.41152</td><td>-99.16857</td><td>&quot;Entire rental unit&quot;</td><td>&quot;Entire home/apt&quot;</td><td>4</td><td>null</td><td>&quot;1 bath&quot;</td><td>&hellip;</td><td>30</td><td>2</td><td>2</td><td>30</td><td>30</td><td>2.0</td><td>30.0</td><td>null</td><td>&quot;t&quot;</td><td>0</td><td>2</td><td>32</td><td>307</td><td>&quot;2025-03-20&quot;</td><td>50</td><td>2</td><td>0</td><td>229</td><td>4</td><td>12</td><td>null</td><td>&quot;2011-11-17&quot;</td><td>&quot;2024-10-30&quot;</td><td>4.9</td><td>4.82</td><td>4.76</td><td>4.94</td><td>4.92</td><td>4.98</td><td>4.92</td><td>null</td><td>&quot;f&quot;</td><td>2</td><td>2</td><td>0</td><td>0</td><td>0.31</td></tr><tr><td>70644</td><td>&quot;https://www.airbnb.com/rooms/7…</td><td>20250319150644</td><td>&quot;2025-03-22&quot;</td><td>&quot;city scrape&quot;</td><td>&quot;Beautiful light Studio Coyoaca…</td><td>&quot;COYOACAN designer studio quiet…</td><td>&quot;Coyoacan is a beautiful neighb…</td><td>&quot;https://a0.muscache.com/pictur…</td><td>212109</td><td>&quot;https://www.airbnb.com/users/s…</td><td>&quot;Trisha&quot;</td><td>&quot;2010-08-24&quot;</td><td>&quot;Mexico City, Mexico&quot;</td><td>&quot;I am a mother, documentary fil…</td><td>&quot;within a few hours&quot;</td><td>&quot;100%&quot;</td><td>&quot;93%&quot;</td><td>&quot;t&quot;</td><td>&quot;https://a0.muscache.com/im/use…</td><td>&quot;https://a0.muscache.com/im/use…</td><td>&quot;Coyoacán&quot;</td><td>3</td><td>4</td><td>&quot;[&#x27;email&#x27;, &#x27;phone&#x27;, &#x27;work_email…</td><td>&quot;t&quot;</td><td>&quot;t&quot;</td><td>&quot;Mexico City, Federal District,…</td><td>&quot;Coyoacán&quot;</td><td>null</td><td>19.35448</td><td>-99.16217</td><td>&quot;Entire rental unit&quot;</td><td>&quot;Entire home/apt&quot;</td><td>2</td><td>1.0</td><td>&quot;1 bath&quot;</td><td>&hellip;</td><td>180</td><td>3</td><td>4</td><td>180</td><td>180</td><td>3.4</td><td>180.0</td><td>null</td><td>&quot;t&quot;</td><td>0</td><td>6</td><td>23</td><td>245</td><td>&quot;2025-03-22&quot;</td><td>132</td><td>9</td><td>0</td><td>166</td><td>9</td><td>54</td><td>54810</td><td>&quot;2012-02-14&quot;</td><td>&quot;2024-12-28&quot;</td><td>4.92</td><td>4.91</td><td>4.96</td><td>4.96</td><td>4.98</td><td>4.96</td><td>4.92</td><td>null</td><td>&quot;f&quot;</td><td>3</td><td>2</td><td>1</td><td>0</td><td>0.83</td></tr></tbody></table></div>"
            ]
          },
          "metadata": {},
          "execution_count": 6
        }
      ]
    },
    {
      "cell_type": "code",
      "source": [
        "airbnb[\"room_type\"].head()"
      ],
      "metadata": {
        "colab": {
          "base_uri": "https://localhost:8080/",
          "height": 411
        },
        "id": "PKyErNhpax4g",
        "outputId": "3ef218fe-4807-4b1e-d28d-e6585e2e2053"
      },
      "execution_count": 34,
      "outputs": [
        {
          "output_type": "execute_result",
          "data": {
            "text/plain": [
              "shape: (10,)\n",
              "Series: 'room_type' [str]\n",
              "[\n",
              "\t\"Entire home/apt\"\n",
              "\t\"Entire home/apt\"\n",
              "\t\"Entire home/apt\"\n",
              "\t\"Entire home/apt\"\n",
              "\t\"Entire home/apt\"\n",
              "\t\"Private room\"\n",
              "\t\"Entire home/apt\"\n",
              "\t\"Private room\"\n",
              "\t\"Entire home/apt\"\n",
              "\t\"Private room\"\n",
              "]"
            ],
            "text/html": [
              "<div><style>\n",
              ".dataframe > thead > tr,\n",
              ".dataframe > tbody > tr {\n",
              "  text-align: right;\n",
              "  white-space: pre-wrap;\n",
              "}\n",
              "</style>\n",
              "<small>shape: (10,)</small><table border=\"1\" class=\"dataframe\"><thead><tr><th>room_type</th></tr><tr><td>str</td></tr></thead><tbody><tr><td>&quot;Entire home/apt&quot;</td></tr><tr><td>&quot;Entire home/apt&quot;</td></tr><tr><td>&quot;Entire home/apt&quot;</td></tr><tr><td>&quot;Entire home/apt&quot;</td></tr><tr><td>&quot;Entire home/apt&quot;</td></tr><tr><td>&quot;Private room&quot;</td></tr><tr><td>&quot;Entire home/apt&quot;</td></tr><tr><td>&quot;Private room&quot;</td></tr><tr><td>&quot;Entire home/apt&quot;</td></tr><tr><td>&quot;Private room&quot;</td></tr></tbody></table></div>"
            ]
          },
          "metadata": {},
          "execution_count": 34
        }
      ]
    },
    {
      "cell_type": "code",
      "source": [],
      "metadata": {
        "id": "h8R_MmSCcZMJ"
      },
      "execution_count": 28,
      "outputs": []
    },
    {
      "cell_type": "code",
      "source": [
        "cleanPriceAirbnb[\"price\"].head()"
      ],
      "metadata": {
        "colab": {
          "base_uri": "https://localhost:8080/",
          "height": 411
        },
        "id": "Yrpvh-hxf_fz",
        "outputId": "d493438f-37ac-42d3-d971-7d70bae6fec1"
      },
      "execution_count": 30,
      "outputs": [
        {
          "output_type": "execute_result",
          "data": {
            "text/plain": [
              "shape: (10,)\n",
              "Series: 'price' [str]\n",
              "[\n",
              "\t\"$3,982\"\n",
              "\tnull\n",
              "\t\"$585\"\n",
              "\tnull\n",
              "\t\"$1,015\"\n",
              "\tnull\n",
              "\t\"$3,982\"\n",
              "\t\"$327\"\n",
              "\t\"$605\"\n",
              "\tnull\n",
              "]"
            ],
            "text/html": [
              "<div><style>\n",
              ".dataframe > thead > tr,\n",
              ".dataframe > tbody > tr {\n",
              "  text-align: right;\n",
              "  white-space: pre-wrap;\n",
              "}\n",
              "</style>\n",
              "<small>shape: (10,)</small><table border=\"1\" class=\"dataframe\"><thead><tr><th>price</th></tr><tr><td>str</td></tr></thead><tbody><tr><td>&quot;$3,982&quot;</td></tr><tr><td>null</td></tr><tr><td>&quot;$585&quot;</td></tr><tr><td>null</td></tr><tr><td>&quot;$1,015&quot;</td></tr><tr><td>null</td></tr><tr><td>&quot;$3,982&quot;</td></tr><tr><td>&quot;$327&quot;</td></tr><tr><td>&quot;$605&quot;</td></tr><tr><td>null</td></tr></tbody></table></div>"
            ]
          },
          "metadata": {},
          "execution_count": 30
        }
      ]
    },
    {
      "cell_type": "code",
      "source": [],
      "metadata": {
        "id": "EMZL3iJ8gTzz"
      },
      "execution_count": null,
      "outputs": []
    },
    {
      "cell_type": "code",
      "metadata": {
        "colab": {
          "base_uri": "https://localhost:8080/",
          "height": 255
        },
        "id": "102831e3",
        "outputId": "bc69b4c8-9098-4598-df1a-d8d4f307bd9e"
      },
      "source": [
        "clean_price_airbnb = airbnb.with_columns(\n",
        "    pl.col(\"price\")\n",
        "    .str.replace_all(r\"[$,]\", \"\") # Remove dollar signs and commas\n",
        "    .cast(pl.Float64) # Cast to float to handle potential decimal points before converting to integer\n",
        "    .cast(pl.Int64) # Cast to integer\n",
        "    .alias(\"price_cleaned\") # Rename the new column\n",
        ")\n",
        "\n",
        "# Display the first few rows of the new dataframe with the cleaned price column\n",
        "display(clean_price_airbnb.select([\"price\", \"price_cleaned\"]).head())"
      ],
      "execution_count": 31,
      "outputs": [
        {
          "output_type": "display_data",
          "data": {
            "text/plain": [
              "shape: (5, 2)\n",
              "┌───────────┬───────────────┐\n",
              "│ price     ┆ price_cleaned │\n",
              "│ ---       ┆ ---           │\n",
              "│ str       ┆ i64           │\n",
              "╞═══════════╪═══════════════╡\n",
              "│ $3,982.00 ┆ 3982          │\n",
              "│ null      ┆ null          │\n",
              "│ $585.00   ┆ 585           │\n",
              "│ null      ┆ null          │\n",
              "│ $1,015.00 ┆ 1015          │\n",
              "└───────────┴───────────────┘"
            ],
            "text/html": [
              "<div><style>\n",
              ".dataframe > thead > tr,\n",
              ".dataframe > tbody > tr {\n",
              "  text-align: right;\n",
              "  white-space: pre-wrap;\n",
              "}\n",
              "</style>\n",
              "<small>shape: (5, 2)</small><table border=\"1\" class=\"dataframe\"><thead><tr><th>price</th><th>price_cleaned</th></tr><tr><td>str</td><td>i64</td></tr></thead><tbody><tr><td>&quot;$3,982.00&quot;</td><td>3982</td></tr><tr><td>null</td><td>null</td></tr><tr><td>&quot;$585.00&quot;</td><td>585</td></tr><tr><td>null</td><td>null</td></tr><tr><td>&quot;$1,015.00&quot;</td><td>1015</td></tr></tbody></table></div>"
            ]
          },
          "metadata": {}
        }
      ]
    },
    {
      "cell_type": "code",
      "source": [
        "clean_price_airbnb[\"price_cleaned\"].mean()"
      ],
      "metadata": {
        "colab": {
          "base_uri": "https://localhost:8080/"
        },
        "id": "KQSFDdnihLPP",
        "outputId": "a2675005-b5d9-4c94-fa4a-d92e3b2d54f1"
      },
      "execution_count": 33,
      "outputs": [
        {
          "output_type": "execute_result",
          "data": {
            "text/plain": [
              "1665.005981511691"
            ]
          },
          "metadata": {},
          "execution_count": 33
        }
      ]
    },
    {
      "cell_type": "code",
      "source": [
        "top_hosts = airbnb.group_by(\"room_type\").agg(pl.count().alias(\"count\")).sort(\"count\", descending=True)\n",
        "top_hosts.head()"
      ],
      "metadata": {
        "colab": {
          "base_uri": "https://localhost:8080/",
          "height": 258
        },
        "id": "msmrgY5ehUan",
        "outputId": "c1afa0ce-0ff8-4075-aec2-ea3b6f889bc9"
      },
      "execution_count": 35,
      "outputs": [
        {
          "output_type": "stream",
          "name": "stderr",
          "text": [
            "/tmp/ipython-input-2806584021.py:1: DeprecationWarning: `pl.count()` is deprecated. Please use `pl.len()` instead.\n",
            "  top_hosts = airbnb.group_by(\"room_type\").agg(pl.count().alias(\"count\")).sort(\"count\", descending=True)\n"
          ]
        },
        {
          "output_type": "execute_result",
          "data": {
            "text/plain": [
              "shape: (4, 2)\n",
              "┌─────────────────┬───────┐\n",
              "│ room_type       ┆ count │\n",
              "│ ---             ┆ ---   │\n",
              "│ str             ┆ u32   │\n",
              "╞═════════════════╪═══════╡\n",
              "│ Entire home/apt ┆ 17163 │\n",
              "│ Private room    ┆ 8646  │\n",
              "│ Shared room     ┆ 170   │\n",
              "│ Hotel room      ┆ 88    │\n",
              "└─────────────────┴───────┘"
            ],
            "text/html": [
              "<div><style>\n",
              ".dataframe > thead > tr,\n",
              ".dataframe > tbody > tr {\n",
              "  text-align: right;\n",
              "  white-space: pre-wrap;\n",
              "}\n",
              "</style>\n",
              "<small>shape: (4, 2)</small><table border=\"1\" class=\"dataframe\"><thead><tr><th>room_type</th><th>count</th></tr><tr><td>str</td><td>u32</td></tr></thead><tbody><tr><td>&quot;Entire home/apt&quot;</td><td>17163</td></tr><tr><td>&quot;Private room&quot;</td><td>8646</td></tr><tr><td>&quot;Shared room&quot;</td><td>170</td></tr><tr><td>&quot;Hotel room&quot;</td><td>88</td></tr></tbody></table></div>"
            ]
          },
          "metadata": {},
          "execution_count": 35
        }
      ]
    },
    {
      "cell_type": "code",
      "source": [
        "top_alcaldias = airbnb.group_by(\"neighbourhood_cleansed\").agg(pl.count().alias(\"count\")).sort(\"count\", descending=True)\n",
        "top_alcaldias.head(10)"
      ],
      "metadata": {
        "colab": {
          "base_uri": "https://localhost:8080/",
          "height": 446
        },
        "id": "ot2WcYBmidj9",
        "outputId": "ca2ea915-1039-479d-ce7c-ffbf252bdffe"
      },
      "execution_count": 37,
      "outputs": [
        {
          "output_type": "stream",
          "name": "stderr",
          "text": [
            "/tmp/ipython-input-3070367578.py:1: DeprecationWarning: `pl.count()` is deprecated. Please use `pl.len()` instead.\n",
            "  top_alcaldias = airbnb.group_by(\"neighbourhood_cleansed\").agg(pl.count().alias(\"count\")).sort(\"count\", descending=True)\n"
          ]
        },
        {
          "output_type": "execute_result",
          "data": {
            "text/plain": [
              "shape: (10, 2)\n",
              "┌────────────────────────┬───────┐\n",
              "│ neighbourhood_cleansed ┆ count │\n",
              "│ ---                    ┆ ---   │\n",
              "│ str                    ┆ u32   │\n",
              "╞════════════════════════╪═══════╡\n",
              "│ Cuauhtémoc             ┆ 12030 │\n",
              "│ Miguel Hidalgo         ┆ 4441  │\n",
              "│ Benito Juárez          ┆ 2989  │\n",
              "│ Coyoacán               ┆ 1693  │\n",
              "│ Álvaro Obregón         ┆ 1007  │\n",
              "│ Venustiano Carranza    ┆ 838   │\n",
              "│ Tlalpan                ┆ 777   │\n",
              "│ Gustavo A. Madero      ┆ 479   │\n",
              "│ Cuajimalpa de Morelos  ┆ 424   │\n",
              "│ Iztacalco              ┆ 421   │\n",
              "└────────────────────────┴───────┘"
            ],
            "text/html": [
              "<div><style>\n",
              ".dataframe > thead > tr,\n",
              ".dataframe > tbody > tr {\n",
              "  text-align: right;\n",
              "  white-space: pre-wrap;\n",
              "}\n",
              "</style>\n",
              "<small>shape: (10, 2)</small><table border=\"1\" class=\"dataframe\"><thead><tr><th>neighbourhood_cleansed</th><th>count</th></tr><tr><td>str</td><td>u32</td></tr></thead><tbody><tr><td>&quot;Cuauhtémoc&quot;</td><td>12030</td></tr><tr><td>&quot;Miguel Hidalgo&quot;</td><td>4441</td></tr><tr><td>&quot;Benito Juárez&quot;</td><td>2989</td></tr><tr><td>&quot;Coyoacán&quot;</td><td>1693</td></tr><tr><td>&quot;Álvaro Obregón&quot;</td><td>1007</td></tr><tr><td>&quot;Venustiano Carranza&quot;</td><td>838</td></tr><tr><td>&quot;Tlalpan&quot;</td><td>777</td></tr><tr><td>&quot;Gustavo A. Madero&quot;</td><td>479</td></tr><tr><td>&quot;Cuajimalpa de Morelos&quot;</td><td>424</td></tr><tr><td>&quot;Iztacalco&quot;</td><td>421</td></tr></tbody></table></div>"
            ]
          },
          "metadata": {},
          "execution_count": 37
        }
      ]
    },
    {
      "cell_type": "code",
      "source": [
        "top_alojamientos = airbnb.group_by(\"host_name\").agg(pl.count().alias(\"count\")).sort(\"count\", descending=True)\n",
        "top_alojamientos.head(10)"
      ],
      "metadata": {
        "colab": {
          "base_uri": "https://localhost:8080/",
          "height": 446
        },
        "id": "KyM-PyvOi-Lm",
        "outputId": "1b7157e8-d05a-41c1-96e1-685ce1230e67"
      },
      "execution_count": 38,
      "outputs": [
        {
          "output_type": "stream",
          "name": "stderr",
          "text": [
            "/tmp/ipython-input-1487880669.py:1: DeprecationWarning: `pl.count()` is deprecated. Please use `pl.len()` instead.\n",
            "  top_alojamientos = airbnb.group_by(\"host_name\").agg(pl.count().alias(\"count\")).sort(\"count\", descending=True)\n"
          ]
        },
        {
          "output_type": "execute_result",
          "data": {
            "text/plain": [
              "shape: (10, 2)\n",
              "┌────────────┬───────┐\n",
              "│ host_name  ┆ count │\n",
              "│ ---        ┆ ---   │\n",
              "│ str        ┆ u32   │\n",
              "╞════════════╪═══════╡\n",
              "│ Alejandra  ┆ 334   │\n",
              "│ Alejandro  ┆ 291   │\n",
              "│ Raul       ┆ 266   │\n",
              "│ Juan       ┆ 266   │\n",
              "│ Blueground ┆ 242   │\n",
              "│ Luis       ┆ 242   │\n",
              "│ Mr. W      ┆ 217   │\n",
              "│ Carlos     ┆ 215   │\n",
              "│ Jorge      ┆ 212   │\n",
              "│ Rodrigo    ┆ 194   │\n",
              "└────────────┴───────┘"
            ],
            "text/html": [
              "<div><style>\n",
              ".dataframe > thead > tr,\n",
              ".dataframe > tbody > tr {\n",
              "  text-align: right;\n",
              "  white-space: pre-wrap;\n",
              "}\n",
              "</style>\n",
              "<small>shape: (10, 2)</small><table border=\"1\" class=\"dataframe\"><thead><tr><th>host_name</th><th>count</th></tr><tr><td>str</td><td>u32</td></tr></thead><tbody><tr><td>&quot;Alejandra&quot;</td><td>334</td></tr><tr><td>&quot;Alejandro&quot;</td><td>291</td></tr><tr><td>&quot;Raul&quot;</td><td>266</td></tr><tr><td>&quot;Juan&quot;</td><td>266</td></tr><tr><td>&quot;Blueground&quot;</td><td>242</td></tr><tr><td>&quot;Luis&quot;</td><td>242</td></tr><tr><td>&quot;Mr. W&quot;</td><td>217</td></tr><tr><td>&quot;Carlos&quot;</td><td>215</td></tr><tr><td>&quot;Jorge&quot;</td><td>212</td></tr><tr><td>&quot;Rodrigo&quot;</td><td>194</td></tr></tbody></table></div>"
            ]
          },
          "metadata": {},
          "execution_count": 38
        }
      ]
    },
    {
      "cell_type": "code",
      "source": [],
      "metadata": {
        "id": "ej6udEnUjS36"
      },
      "execution_count": null,
      "outputs": []
    }
  ]
}